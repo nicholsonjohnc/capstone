{
 "cells": [
  {
   "cell_type": "markdown",
   "metadata": {},
   "source": [
    "# Promotion Optimization\n",
    "\n",
    "Cohen, Kalas, and Perakis paper on Optimizing Promotions for Multiple Items in Supermarkets."
   ]
  },
  {
   "cell_type": "markdown",
   "metadata": {},
   "source": [
    "## Problem Statement\n",
    "\n",
    "* Decide which items to promote and when, in order to maximize total profit over the selling season."
   ]
  },
  {
   "cell_type": "markdown",
   "metadata": {},
   "source": [
    "## Parameters\n",
    "\n",
    "* $N$ - The number of items or SKUs.\n",
    "* $i=1,...,N$ - Item index.\n",
    "* $T$ - The number of periods in the selling horizon. Default = 13-weeks (1-quarter).\n",
    "* $t=1,...,T$ - Time index.\n",
    "* $p_{t}^i$ - Price of item $i$ at time $t$.\n",
    "* $c_{t}^i$ - Cost of item $i$ at time $t$.\n",
    "* $d_{t}^i(p_{t}^i, p_{t-1}^i,..., p_{t-M^i}^i, \\bar{p}_t^{-i})$ - Demand (sales) of item $i$ at time $t$. Demand depends on self past and current prices, and on cross current prices. Where $\\bar{p}_t^{-i}$ is the vector of prices of all the items except $i$ at time $t$.\n",
    "* $\\bar{p}$ - A vector of current and past prices.\n",
    "* $q^{i0}$ - The reqular non-promotion price.\n",
    "* $q^{ik}$ - $K^i = |Q_i|-1$ promotion prices. Where $|Q_i|$ is the size of the price ladder, i.e. the total number of price points for item $i$. e.g. if $K^i=2$ promotion prices, then $q^{i2} < q^{i1} < q^{i0}$ and $|Q_i|=3$.\n",
    "* $M^i$ - The number of past prices that affect the current demand."
   ]
  },
  {
   "cell_type": "markdown",
   "metadata": {},
   "source": [
    "## Decision Variables\n",
    "\n",
    "* $\\gamma_t^{ik}$ - Binary decision variable. 1 if price of item $i$ at time $t$ is set to $q^{ik}$ and 0 otherwise.  "
   ]
  },
  {
   "cell_type": "markdown",
   "metadata": {},
   "source": [
    "## Objective\n",
    "\n",
    "$\\underset{\\rm \\gamma_t^{ik}}{\\rm max} \\sum_{i=1}^{N} \\sum_{t=1}^{T} (p_t^i-c_t^i)\\ d_{t}^i(p_{t}^i, p_{t-1}^i,..., p_{t-M^i}^i, \\bar{p}_t^{-i})$"
   ]
  },
  {
   "cell_type": "markdown",
   "metadata": {},
   "source": [
    "## Constraints\n",
    "\n",
    "$p_t^i = \\sum_{k=0}^{K^i}q^{ik} \\gamma_t^{ik}\\ \\forall i$ - Price of item $i$ at time $t$ is chosen from a discrete price ladder.\n",
    "\n",
    "$\\sum_{t=1}^{T} \\sum_{k=1}^{K^i} \\gamma_t^{ik} \\leq L^i\\ \\forall i$ - Promote item $i$ at most $L^i=3$ times during the selling horizon.\n",
    "\n",
    "$\\sum_{\\tau=t}^{t+S^i} \\sum_{k=1}^{K^i} \\gamma_{\\tau}^{ik} \\leq 1\\ \\forall i,t$ - Space out two successive promotions by a minimal number of separating periods, $S^i$.\n",
    "\n",
    "$\\sum_{k=0}^{K^i} \\gamma_{t}^{ik} = 1\\ \\forall i,t$ - \n",
    "\n",
    "$\\sum_{i=1}^{N} \\sum_{t=1}^{T} \\sum_{k=1}^{K^i} \\gamma_{t}^{ik} \\leq L_T$ - Limit total number of promotions, $L_T=20$.\n",
    "\n",
    "$\\sum_{i=1}^{N} \\sum_{k=1}^{K^i} \\gamma_{t}^{ik} \\leq C_T\\ \\forall t$ - Limit number of promotions in each time period, $C^t=\\dfrac{N}{10}$.\n",
    "\n",
    "$\\gamma_{t}^{ik} \\in \\lbrace 0,1 \\rbrace\\ \\forall i,t,k$"
   ]
  },
  {
   "cell_type": "markdown",
   "metadata": {},
   "source": []
  },
  {
   "cell_type": "code",
   "execution_count": null,
   "metadata": {},
   "outputs": [],
   "source": []
  },
  {
   "cell_type": "code",
   "execution_count": null,
   "metadata": {},
   "outputs": [],
   "source": []
  },
  {
   "cell_type": "code",
   "execution_count": null,
   "metadata": {},
   "outputs": [],
   "source": []
  }
 ],
 "metadata": {
  "kernelspec": {
   "display_name": "Python 3",
   "language": "python",
   "name": "python3"
  },
  "language_info": {
   "codemirror_mode": {
    "name": "ipython",
    "version": 3
   },
   "file_extension": ".py",
   "mimetype": "text/x-python",
   "name": "python",
   "nbconvert_exporter": "python",
   "pygments_lexer": "ipython3",
   "version": "3.6.4"
  }
 },
 "nbformat": 4,
 "nbformat_minor": 2
}
